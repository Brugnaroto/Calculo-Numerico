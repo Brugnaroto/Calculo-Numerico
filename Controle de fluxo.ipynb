{
  "nbformat": 4,
  "nbformat_minor": 0,
  "metadata": {
    "colab": {
      "name": "Untitled0.ipynb",
      "version": "0.3.2",
      "provenance": [],
      "include_colab_link": true
    },
    "kernelspec": {
      "name": "python3",
      "display_name": "Python 3"
    }
  },
  "cells": [
    {
      "cell_type": "markdown",
      "metadata": {
        "id": "view-in-github",
        "colab_type": "text"
      },
      "source": [
        "<a href=\"https://colab.research.google.com/github/Brugnaroto/Calculo-Numerico-Computacional/blob/master/Controle%20de%20fluxo.ipynb\" target=\"_parent\"><img src=\"https://colab.research.google.com/assets/colab-badge.svg\" alt=\"Open In Colab\"/></a>"
      ]
    },
    {
      "cell_type": "markdown",
      "metadata": {
        "id": "PoMYNByEdDHC",
        "colab_type": "text"
      },
      "source": [
        "# Bibliotecas"
      ]
    },
    {
      "cell_type": "code",
      "metadata": {
        "id": "WijG4lItcpVN",
        "colab_type": "code",
        "colab": {}
      },
      "source": [
        ""
      ],
      "execution_count": 0,
      "outputs": []
    },
    {
      "cell_type": "markdown",
      "metadata": {
        "id": "nwDMRlNcdLuC",
        "colab_type": "text"
      },
      "source": [
        "# Algoritmo para resolução de sistemas: *Nome do algoritmo*\n"
      ]
    },
    {
      "cell_type": "code",
      "metadata": {
        "id": "cHqifYggdbYG",
        "colab_type": "code",
        "colab": {}
      },
      "source": [
        ""
      ],
      "execution_count": 0,
      "outputs": []
    },
    {
      "cell_type": "markdown",
      "metadata": {
        "id": "5EMdfO0bdcOj",
        "colab_type": "text"
      },
      "source": [
        "# Interface Gráfica"
      ]
    },
    {
      "cell_type": "code",
      "metadata": {
        "id": "pMEW_vjBdiwU",
        "colab_type": "code",
        "colab": {}
      },
      "source": [
        ""
      ],
      "execution_count": 0,
      "outputs": []
    },
    {
      "cell_type": "markdown",
      "metadata": {
        "id": "ynlR9hwodiAE",
        "colab_type": "text"
      },
      "source": [
        "# Inicialização do controlador"
      ]
    },
    {
      "cell_type": "code",
      "metadata": {
        "id": "REwmzH8hdqN-",
        "colab_type": "code",
        "colab": {}
      },
      "source": [
        ""
      ],
      "execution_count": 0,
      "outputs": []
    }
  ]
}