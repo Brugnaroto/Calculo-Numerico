{
  "nbformat": 4,
  "nbformat_minor": 0,
  "metadata": {
    "colab": {
      "name": "Comparação.ipynb",
      "version": "0.3.2",
      "provenance": [],
      "collapsed_sections": [
        "lgy0KjXacHsg",
        "QXA4T9Jhb5dn"
      ],
      "include_colab_link": true
    },
    "kernelspec": {
      "name": "python3",
      "display_name": "Python 3"
    }
  },
  "cells": [
    {
      "cell_type": "markdown",
      "metadata": {
        "id": "view-in-github",
        "colab_type": "text"
      },
      "source": [
        "<a href=\"https://colab.research.google.com/github/Brugnaroto/Calculo-Numerico/blob/master/Compara%C3%A7%C3%A3o.ipynb\" target=\"_parent\"><img src=\"https://colab.research.google.com/assets/colab-badge.svg\" alt=\"Open In Colab\"/></a>"
      ]
    },
    {
      "metadata": {
        "id": "lgy0KjXacHsg",
        "colab_type": "text"
      },
      "cell_type": "markdown",
      "source": [
        "# Bibliotecas\n"
      ]
    },
    {
      "metadata": {
        "id": "XlxlGjNQcORc",
        "colab_type": "code",
        "colab": {}
      },
      "cell_type": "code",
      "source": [
        "import numpy as np\n",
        "import matplotlib.pyplot as plt\n",
        "import pandas as pd"
      ],
      "execution_count": 0,
      "outputs": []
    },
    {
      "metadata": {
        "id": "Xa0mFtY1btPR",
        "colab_type": "text"
      },
      "cell_type": "markdown",
      "source": [
        "# Funções e Dados de Entrada/Saída\n",
        "\n"
      ]
    },
    {
      "metadata": {
        "id": "LWXLq07icSu4",
        "colab_type": "code",
        "colab": {}
      },
      "cell_type": "code",
      "source": [
        "#Funções\n",
        "f = lambda x: 4*mt.sin(x) - mt.exp(x)\n",
        "derivada = lambda x: 4*mt.cos(x) - mt.exp(x)\n",
        "\n",
        "#Dados de entrada\n",
        "a = -5\n",
        "b = 5\n",
        "x = 1\n",
        "x0 = -1\n",
        "x1 = 1\n",
        "e = 0.001\n",
        "\n",
        "#Dados de Saída\n",
        "pontosFB = []\n",
        "pontosFF = []\n",
        "pontosFT = []\n",
        "pontosFS = []\n",
        "\n",
        "pontosXB = []\n",
        "pontosXF = []\n",
        "pontosXT = []\n",
        "pontosXS = []\n",
        "\n",
        "pontosYB = []\n",
        "pontosYF = []\n",
        "pontosYT = []\n",
        "pontosYS = []\n",
        "\n",
        "#Eixos Gráfico\n",
        "eixoX = \"Eixo X\"\n",
        "eixoY = \"Eixo Y\""
      ],
      "execution_count": 0,
      "outputs": []
    },
    {
      "metadata": {
        "id": "VpO_wCkFcWO5",
        "colab_type": "text"
      },
      "cell_type": "markdown",
      "source": [
        "# Métodos\n"
      ]
    },
    {
      "metadata": {
        "id": "d5VN_eJPP0K6",
        "colab_type": "code",
        "colab": {}
      },
      "cell_type": "code",
      "source": [
        "#METODO DA BISSEÇÃO\n",
        "def bissecao (f, a, b, precisao):\n",
        "  \n",
        "  if f(a) * f(b) >= 0: #Verifica se o valor de A e B mulplicados nao e maior ou igual a zero, se for nao existem raizes\n",
        "    print(\"Bisseção: Nao existem raizes nesse intervalo \\n\")\n",
        "    return None\n",
        "  \n",
        "  x1 = []\n",
        "  y1 = []  \n",
        "  \n",
        "  j = 1\n",
        "  iteracoes = 1\n",
        "  \n",
        "  while j != -1:\n",
        "  \n",
        "    x = (a + b)/2 #Media entra os dois pontos\n",
        "    pontosXB.append(x)\n",
        "    pontosYB.append(f(x))\n",
        "    \n",
        "    x1.append(x)\n",
        "    y1.append(f(x))\n",
        "    \n",
        "    pontosFB.append(f(x))\n",
        "    \n",
        "    \n",
        "    if f(a) * f(x) > 0: #Verifica se o valor da funcao com o valor do A e maior que funcao com o valor de X, se for ele substitui o valor do A com o X\n",
        "      a = x\n",
        "    \n",
        "    elif f(a) * f(x) < 0: #Verifica se o valor da funcao com o valor do A e menor que funcao com o valor de X, se for ele substitui o valor do B com o X\n",
        "      b = x\n",
        "    \n",
        "    #Condicao de parada em relacao a precisao passada como parametro\n",
        "    if f(x) < 0: \n",
        "      if f(x) > -1*(precisao):\n",
        "        j = -1\n",
        "        \n",
        "    elif f(x) > 0:\n",
        "      if f(x) < precisao:\n",
        "        j = -1\n",
        "    \n",
        "    iteracoes += 1\n",
        "   \n",
        "  plt.title(\"Método da Bisseção\")\n",
        "  plt.xlabel(eixoX)\n",
        "  plt.ylabel(eixoY)\n",
        "  \n",
        "  plt.plot(curva,valores,linestyle='--')\n",
        "  plt.axhline(0, color='gray')\n",
        "  plt.axvline(0, color='gray')\n",
        "  plt.scatter(x1, y1, color ='red', alpha=0.7)\n",
        "  plt.show()\n",
        "  \n",
        "#METODO DA FALTA POSICAO\n",
        "def falsaposicao (f, a, b, precisao):\n",
        "  \n",
        "  if f(a) * f(b) >= 0: #Verifica se o valor de A e B mulplicados nao e maior ou igual a zero, se for nao existem raizes\n",
        "    print(\"Falsa Posição: Nao existem raizes nesse intervalo \\n\")\n",
        "    return None\n",
        "  \n",
        "  x1 = []\n",
        "  y1 = []\n",
        "  \n",
        "  j = 1\n",
        "  iteracoes = 1\n",
        "  while j != -1:\n",
        "  \n",
        "    x = (a*f(b)-b*f(a))/(f(b)-f(a))\n",
        "    pontosXF.append(x)\n",
        "    pontosYF.append(f(x))\n",
        "    \n",
        "    x1.append(x)\n",
        "    y1.append(f(x))\n",
        "    \n",
        "    pontosFF.append(f(x))\n",
        "    \n",
        "    \n",
        "    if f(a) * f(x) > 0: #Verifica se o valor da funcao com o valor do A e maior que funcao com o valor de X, se for ele substitui o valor do A com o X\n",
        "      a = x\n",
        "    \n",
        "    elif f(a) * f(x) < 0: #Verifica se o valor da funcao com o valor do A e menor que funcao com o valor de X, se for ele substitui o valor do B com o X\n",
        "      b = x\n",
        "    \n",
        "    #Condicao de parada em relacao a precisao passada como parametro\n",
        "    if f(x) < 0: \n",
        "      if f(x) > -1*(precisao):\n",
        "        j = -1\n",
        "        \n",
        "    elif f(x) > 0:\n",
        "      if f(x) < precisao:\n",
        "        j = -1\n",
        "    \n",
        "    iteracoes += 1\n",
        "\n",
        "  plt.title(\"Método da Falsa Posição\")\n",
        "  plt.xlabel(eixoX)\n",
        "  plt.ylabel(eixoY)\n",
        "  \n",
        "  plt.plot(curva,valores,linestyle='--')\n",
        "  plt.axhline(0, color='gray')\n",
        "  plt.axvline(0, color='gray')\n",
        "  plt.scatter(x1, y1, color ='red', alpha=0.7)\n",
        "  plt.show()\n",
        "  \n",
        "#METODO DA TANGENTE\n",
        "def Tangente (f, x0, derivada, precisao):\n",
        "  \n",
        "  #print(\"Metodo da Tangente\")\n",
        "  #print(\"n    x^n      f(x^n)\")\n",
        "  \n",
        "  j = 1\n",
        "  iteracoes = 1\n",
        "  x1 = []\n",
        "  y1 = []\n",
        "  \n",
        "  pontosFT.append(f(x0))\n",
        "  pontosXT.append(x0)\n",
        "  pontosYT.append(f(x0))\n",
        "  \n",
        "  x1.append(x0)\n",
        "  y1.append(f(x0))\n",
        "  \n",
        "  while j != -1:\n",
        "    \n",
        "    try:\n",
        "      x0 = x0 - f(x0)/derivada(x0)\n",
        "      pontosFT.append(f(x0))\n",
        "      \n",
        "      pontosXT.append(x0)\n",
        "      pontosYT.append(f(x0))\n",
        "                        \n",
        "      x1.append(x0)\n",
        "      y1.append(f(x0))\n",
        "      \n",
        "    except:\n",
        "      print(\"Tangente: Funcao da derivada em relacao ao X deu 0\")\n",
        "      break\n",
        "    \n",
        "    #Condicao de parada em relacao a precisao passada como parametro\n",
        "    if f(x0) < 0: \n",
        "      if f(x0) > -1*(precisao):\n",
        "        j = -1\n",
        "        \n",
        "    elif f(x0) > 0:\n",
        "      if f(x0) < precisao:\n",
        "        j = -1\n",
        "    \n",
        "    iteracoes += 1\n",
        "    \n",
        "  plt.title(\"Método da Tangente\")\n",
        "  plt.xlabel(eixoX)\n",
        "  plt.ylabel(eixoY)\n",
        "  \n",
        "  plt.plot(curva,valores,linestyle='--')\n",
        "  plt.axhline(0, color='gray')\n",
        "  plt.axvline(0, color='gray')\n",
        "  plt.scatter(x1, y1, color ='red', alpha=0.7)\n",
        "  plt.show()\n",
        "\n",
        "#METODO DA SECANTE\n",
        "def Secante (f, x, x0, precisao):\n",
        "  #print(\"Método da Secante\")\n",
        "  #print(\"n    x^n      f(x^n)\")\n",
        "  \n",
        "  j = 1\n",
        "  j1 = 1\n",
        "  iteracoes = 1\n",
        "  \n",
        "  x1 = []\n",
        "  y1 = []\n",
        "  \n",
        "  pontosFS.append(f(x0))\n",
        "  \n",
        "  pontosXS.append(x0)\n",
        "  pontosYS.append(f(x0))\n",
        "  \n",
        "  x1.append(x0)\n",
        "  y1.append(f(x0))\n",
        "  \n",
        "  while j != -1:\n",
        "    \n",
        "    try:\n",
        "      derivada = (f(x0)-f(x))/(x0-x)\n",
        "      x = x0\n",
        "      x0 = x0 - f(x0)/derivada\n",
        "      pontosFS.append(f(x0))\n",
        "      \n",
        "      pontosXS.append(x0)\n",
        "      pontosYS.append(f(x0))\n",
        "      \n",
        "      x1.append(x0)\n",
        "      y1.append(f(x0))\n",
        "  \n",
        "    except:\n",
        "      print(\"Secante: Funcao da derivada em relacao ao X deu 0\")\n",
        "      break\n",
        "    \n",
        "    if f(x0) < 0: \n",
        "      if f(x0) > -1*(precisao):\n",
        "        j = -1\n",
        "        \n",
        "    elif f(x0) > 0:\n",
        "      if f(x0) < precisao:\n",
        "        j = -1\n",
        "        \n",
        "    iteracoes += 1\n",
        "    \n",
        "  plt.title(\"Método da Secante\")\n",
        "  plt.xlabel(eixoX)\n",
        "  plt.ylabel(eixoY)\n",
        "  \n",
        "  plt.plot(curva,valores,linestyle='--')\n",
        "  plt.axhline(0, color='gray')\n",
        "  plt.axvline(0, color='gray')\n",
        "  plt.scatter(x1, y1, color ='red', alpha=0.7)\n",
        "  plt.show()"
      ],
      "execution_count": 0,
      "outputs": []
    },
    {
      "metadata": {
        "id": "QXA4T9Jhb5dn",
        "colab_type": "text"
      },
      "cell_type": "markdown",
      "source": [
        "# Construção da Tabela"
      ]
    },
    {
      "metadata": {
        "id": "Wxy0itlYcCkG",
        "colab_type": "code",
        "colab": {}
      },
      "cell_type": "code",
      "source": [
        "vertical = [\"Dados Iniciais\",\"X\", \"F(x)\", \"Nº de Iterações\"]\n",
        "horizontal = [\"Bisseção\", \"Falsa Posição\", \"Tangente\", \"Secante\"]\n",
        "\n",
        "TB = pd.DataFrame(vertical, horizontal)\n",
        "TB = TB.fillna(0)\n",
        "\n",
        "dados = []\n",
        "\n",
        "def showStatTable():\n",
        "  TB = pd.DataFrame(dados, vertical, horizontal)\n",
        "  display(TB)"
      ],
      "execution_count": 0,
      "outputs": []
    },
    {
      "metadata": {
        "id": "-Qw5LtS_xa7K",
        "colab_type": "text"
      },
      "cell_type": "markdown",
      "source": [
        "# Construção da Função para exibir no Gráfico"
      ]
    },
    {
      "metadata": {
        "id": "_yEyhHqKy72q",
        "colab_type": "code",
        "colab": {}
      },
      "cell_type": "code",
      "source": [
        "Xinicio = -5\n",
        "Xfinal = 5\n",
        "intervalo = 100\n",
        "\n",
        "curva = np.linspace(Xinicio, Xfinal, intervalo)\n",
        "\n",
        "valores = [f(valor) for valor in curva]\n",
        "\n",
        "def comparacaoGrafico (bissecao, falsaposicao, tangente, secante):\n",
        "  plt.title(\"Comparação entre os Métodos\")\n",
        "  plt.xlabel(eixoX)\n",
        "  plt.ylabel(eixoY)\n",
        "  plt.grid(True)\n",
        "  plt.plot(curva,valores,linestyle='--')\n",
        "  plt.axhline(0, color='gray')\n",
        "  plt.axvline(0, color='gray')\n",
        "  plt.scatter(pontosXB, pontosYB, marker='o', color ='red', alpha=0.7, label='Bisseção (%.0f iteracoes)'%bissecao)\n",
        "  plt.scatter(pontosXF, pontosYF, marker='o', color ='yellow', alpha=0.7, label='Falta Posição (%.0f iteracoes)'%falsaposicao)\n",
        "  plt.scatter(pontosXT, pontosYT, marker='o', color ='green', alpha=0.7, label='Tangente (%.0f iteracoes)'%tangente)\n",
        "  plt.scatter(pontosXS, pontosYS, marker='o', color ='purple', alpha=0.7, label='Secante (%.0f iteracoes)'%secante)\n",
        "  plt.legend(loc=3, fontsize='medium')\n",
        "  \n",
        "  plt.show()\n"
      ],
      "execution_count": 0,
      "outputs": []
    },
    {
      "metadata": {
        "id": "e0CkAHq5cf8d",
        "colab_type": "text"
      },
      "cell_type": "markdown",
      "source": [
        "# Chamada dos Métodos\n",
        "\n"
      ]
    },
    {
      "metadata": {
        "id": "KLIZWOLKSfYT",
        "colab_type": "code",
        "outputId": "feae734e-8cbe-4f55-f213-87ca7258c8ce",
        "colab": {
          "base_uri": "https://localhost:8080/",
          "height": 1407
        }
      },
      "cell_type": "code",
      "source": [
        "bissecao(f, a, b, e)\n",
        "falsaposicao(f, a, b, e)\n",
        "Tangente (f, x, derivada, e)\n",
        "Secante (f, x0, x1, e)\n",
        "\n",
        "iteracoesB = len(pontosFB) - 1\n",
        "iteracoesF = len(pontosFF) - 1\n",
        "iteracoesT = len(pontosFT) - 1\n",
        "iteracoesS = len(pontosFS) - 1\n",
        "\n",
        "dados = {\n",
        "'Bisseção': [\"[%.0f, %0.f]\"%(a,b), \"%.12f\"%(pontosXB[iteracoesB]), \"%0.12f\"%(pontosFB[iteracoesB]), \"%0.f\"%(iteracoesB)],\n",
        "'Falsa Posição': [\"[%.0f, %0.f]\"%(a,b), \"%.12f\"%(pontosXF[iteracoesF]), \"%0.12f\"%(pontosFF[iteracoesF]), \"%0.f\"%(iteracoesF)],\n",
        "'Tangente': [\"[%.2f]\"%(x), \"%.12f\"%pontosXT[iteracoesT], \"%0.12f\"%(pontosFT[iteracoesT]), \"%0.f\"%(iteracoesT)],\n",
        "'Secante' : [\"[%.2f, %0.2f]\"%(x0,x1), \"%.12f\"%pontosXS[iteracoesS], \"%0.12f\"%(pontosFS[iteracoesS]), \"%0.f\"%(iteracoesS)]\n",
        "}\n",
        "\n",
        "comparacaoGrafico(iteracoesB, iteracoesF, iteracoesT, iteracoesS)\n",
        "\n",
        "pontosFB.clear()\n",
        "pontosFF.clear()\n",
        "pontosFT.clear()\n",
        "pontosFS.clear()\n",
        "\n",
        "pontosXB.clear()\n",
        "pontosXF.clear()\n",
        "pontosXT.clear()\n",
        "pontosXS.clear()\n",
        "pontosYB.clear()\n",
        "pontosYF.clear()\n",
        "pontosYT.clear()\n",
        "pontosYS.clear()\n"
      ],
      "execution_count": 29,
      "outputs": [
        {
          "output_type": "display_data",
          "data": {
            "image/png": "[encoded data removed]",
            "text/plain": [
              "<Figure size 432x288 with 1 Axes>"
            ]
          },
          "metadata": {
            "tags": []
          }
        },
        {
          "output_type": "display_data",
          "data": {
            "image/png": "[encoded data removed]",
            "text/plain": [
              "<Figure size 432x288 with 1 Axes>"
            ]
          },
          "metadata": {
            "tags": []
          }
        },
        {
          "output_type": "display_data",
          "data": {
            "image/png": "[encoded data removed]",
            "text/plain": [
              "<Figure size 432x288 with 1 Axes>"
            ]
          },
          "metadata": {
            "tags": []
          }
        },
        {
          "output_type": "display_data",
          "data": {
            "image/png": "[encoded data removed]",
            "text/plain": [
              "<Figure size 432x288 with 1 Axes>"
            ]
          },
          "metadata": {
            "tags": []
          }
        },
        {
          "output_type": "display_data",
          "data": {
            "image/png": "[encoded data removed]",
            "text/plain": [
              "<Figure size 432x288 with 1 Axes>"
            ]
          },
          "metadata": {
            "tags": []
          }
        }
      ]
    },
    {
      "metadata": {
        "id": "_W8mXl_vgRQ3",
        "colab_type": "text"
      },
      "cell_type": "markdown",
      "source": [
        "# Plot do Gráfico/Tabela"
      ]
    },
    {
      "metadata": {
        "id": "xjUPKCyNgXy3",
        "colab_type": "code",
        "outputId": "29b56059-6f97-46f6-a34b-5816fbc29f89",
        "colab": {
          "base_uri": "https://localhost:8080/",
          "height": 173
        }
      },
      "cell_type": "code",
      "source": [
        "showStatTable()"
      ],
      "execution_count": 30,
      "outputs": [
        {
          "output_type": "display_data",
          "data": {
            "text/html": [
              "<div>\n",
              "<style scoped>\n",
              "    .dataframe tbody tr th:only-of-type {\n",
              "        vertical-align: middle;\n",
              "    }\n",
              "\n",
              "    .dataframe tbody tr th {\n",
              "        vertical-align: top;\n",
              "    }\n",
              "\n",
              "    .dataframe thead th {\n",
              "        text-align: right;\n",
              "    }\n",
              "</style>\n",
              "<table border=\"1\" class=\"dataframe\">\n",
              "  <thead>\n",
              "    <tr style=\"text-align: right;\">\n",
              "      <th></th>\n",
              "      <th>Bisseção</th>\n",
              "      <th>Falsa Posição</th>\n",
              "      <th>Tangente</th>\n",
              "      <th>Secante</th>\n",
              "    </tr>\n",
              "  </thead>\n",
              "  <tbody>\n",
              "    <tr>\n",
              "      <th>Dados Iniciais</th>\n",
              "      <td>[-5, 5]</td>\n",
              "      <td>[-5, 5]</td>\n",
              "      <td>[1.00]</td>\n",
              "      <td>[-1.00, 1.00]</td>\n",
              "    </tr>\n",
              "    <tr>\n",
              "      <th>X</th>\n",
              "      <td>-3.152465820312</td>\n",
              "      <td>-3.152507264643</td>\n",
              "      <td>1.364998749921</td>\n",
              "      <td>0.370123841530</td>\n",
              "    </tr>\n",
              "    <tr>\n",
              "      <th>F(x)</th>\n",
              "      <td>0.000745218512</td>\n",
              "      <td>0.000912757564</td>\n",
              "      <td>-0.000124906339</td>\n",
              "      <td>-0.000990355288</td>\n",
              "    </tr>\n",
              "    <tr>\n",
              "      <th>Nº de Iterações</th>\n",
              "      <td>13</td>\n",
              "      <td>37</td>\n",
              "      <td>5</td>\n",
              "      <td>5</td>\n",
              "    </tr>\n",
              "  </tbody>\n",
              "</table>\n",
              "</div>"
            ],
            "text/plain": [
              "                        Bisseção    Falsa Posição         Tangente  \\\n",
              "Dados Iniciais           [-5, 5]          [-5, 5]           [1.00]   \n",
              "X                -3.152465820312  -3.152507264643   1.364998749921   \n",
              "F(x)              0.000745218512   0.000912757564  -0.000124906339   \n",
              "Nº de Iterações               13               37                5   \n",
              "\n",
              "                         Secante  \n",
              "Dados Iniciais     [-1.00, 1.00]  \n",
              "X                 0.370123841530  \n",
              "F(x)             -0.000990355288  \n",
              "Nº de Iterações                5  "
            ]
          },
          "metadata": {
            "tags": []
          }
        }
      ]
    }
  ]
}