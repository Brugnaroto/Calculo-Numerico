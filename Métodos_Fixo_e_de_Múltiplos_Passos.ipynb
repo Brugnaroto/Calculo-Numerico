{
  "nbformat": 4,
  "nbformat_minor": 0,
  "metadata": {
    "colab": {
      "name": "Métodos Fixo e de Múltiplos Passos.ipynb",
      "version": "0.3.2",
      "provenance": [],
      "collapsed_sections": [],
      "include_colab_link": true
    },
    "kernelspec": {
      "name": "python3",
      "display_name": "Python 3"
    }
  },
  "cells": [
    {
      "cell_type": "markdown",
      "metadata": {
        "id": "view-in-github",
        "colab_type": "text"
      },
      "source": [
        "<a href=\"https://colab.research.google.com/github/Brugnaroto/Calculo-Numerico/blob/master/M%C3%A9todos_Fixo_e_de_M%C3%BAltiplos_Passos.ipynb\" target=\"_parent\"><img src=\"https://colab.research.google.com/assets/colab-badge.svg\" alt=\"Open In Colab\"/></a>"
      ]
    },
    {
      "metadata": {
        "id": "NjdMzDnQlI7o",
        "colab_type": "code",
        "colab": {}
      },
      "cell_type": "code",
      "source": [
        "from sympy import *\n",
        "\n",
        "f = lambda x: x**3 - 9*x + 3\n",
        "derivada = lambda x: 3*x**2 - 9\n",
        " \n",
        "def Tangente (f, x0, derivada, iteracao, precisao):\n",
        "  \n",
        "  print(\"j    x^n      f(x^n)\")\n",
        "  \n",
        "  j = 1\n",
        "  j1 = 1\n",
        "  print(\"%.0f    %.3f   %.3f\" %(j ,x0, f(x0)))\n",
        "  \n",
        "  while j < iteracao:\n",
        "    \n",
        "    try:\n",
        "      x0 = x0 - f(x0)/derivada(x0)\n",
        "      \n",
        "    except:\n",
        "      print(\"Funcao da derivada em relacao ao X deu 0\")\n",
        "      break\n",
        "      \n",
        "    if f(x0) < 0: \n",
        "      if f(x0) > -1*(precisao):\n",
        "        j = iteracao + 1\n",
        "        \n",
        "    elif f(x0) > 0:\n",
        "      if f(x0) < precisao:\n",
        "        j = iteracao + 1\n",
        "      \n",
        "    j1 +=1\n",
        "    j += 1\n",
        "    print(\"%.0f    %.3f   %.3f\" %(j1 ,x0, f(x0)))\n",
        "    \n",
        "def Secante (f, x0, x, iteracao, precisao):\n",
        "  \n",
        "  print(\"j    x^n      f(x^n)\")\n",
        "  \n",
        "  j = 1\n",
        "  j1 = 1\n",
        "  \n",
        "  print(\"%.0f    %.3f   %.3f\" %(j ,x0, f(x0)))\n",
        "  \n",
        "  while j < iteracao:\n",
        "    \n",
        "    try:\n",
        "      derivada = (f(x0)-f(x))/(x0-x)\n",
        "      x0 = x0 - f(x0)/derivada\n",
        "      \n",
        "    except:\n",
        "      print(\"Funcao da derivada em relacao ao X deu 0\")\n",
        "      break\n",
        "    \n",
        "    if f(x0) < 0: \n",
        "      if f(x0) > -1*(precisao):\n",
        "        j = iteracao + 1\n",
        "        \n",
        "    elif f(x0) > 0:\n",
        "      if f(x0) < precisao:\n",
        "        j = iteracao + 1\n",
        "        \n",
        "    j1 +=1\n",
        "    j += 1\n",
        "    \n",
        "    print(\"%.0f    %.3f   %.3f\" %(j1 ,x0, f(x0)))"
      ],
      "execution_count": 0,
      "outputs": []
    },
    {
      "metadata": {
        "id": "TM2A6lMMIxtP",
        "colab_type": "code",
        "outputId": "386c94cd-33b2-42b3-9101-7529f695a87b",
        "colab": {
          "base_uri": "https://localhost:8080/",
          "height": 85
        }
      },
      "cell_type": "code",
      "source": [
        "Tangente (f, 0.75, derivada, 3, 0.01)"
      ],
      "execution_count": 0,
      "outputs": [
        {
          "output_type": "stream",
          "text": [
            "j    x^n      f(x^n)\n",
            "1    0.750   -3.328\n",
            "2    0.295   0.372\n",
            "3    0.337   0.002\n"
          ],
          "name": "stdout"
        }
      ]
    },
    {
      "metadata": {
        "id": "mpMRobllpviT",
        "colab_type": "code",
        "outputId": "9212d459-3808-4ca4-fcb7-d8a570f9d61c",
        "colab": {
          "base_uri": "https://localhost:8080/",
          "height": 85
        }
      },
      "cell_type": "code",
      "source": [
        "Secante (f, 0.75, 0.1, 5, 0.01)"
      ],
      "execution_count": 0,
      "outputs": [
        {
          "output_type": "stream",
          "text": [
            "j    x^n      f(x^n)\n",
            "1    0.750   -3.328\n",
            "2    0.352   -0.120\n",
            "3    0.338   -0.003\n"
          ],
          "name": "stdout"
        }
      ]
    }
  ]
}