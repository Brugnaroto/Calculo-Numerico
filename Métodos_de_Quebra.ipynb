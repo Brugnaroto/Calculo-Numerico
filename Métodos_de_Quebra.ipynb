{
  "nbformat": 4,
  "nbformat_minor": 0,
  "metadata": {
    "colab": {
      "name": "Métodos de Quebra.ipynb",
      "version": "0.3.2",
      "provenance": [],
      "collapsed_sections": [],
      "include_colab_link": true
    },
    "kernelspec": {
      "name": "python3",
      "display_name": "Python 3"
    }
  },
  "cells": [
    {
      "cell_type": "markdown",
      "metadata": {
        "id": "view-in-github",
        "colab_type": "text"
      },
      "source": [
        "<a href=\"https://colab.research.google.com/github/Brugnaroto/Calculo-Numerico/blob/master/M%C3%A9todos_de_Quebra.ipynb\" target=\"_parent\"><img src=\"https://colab.research.google.com/assets/colab-badge.svg\" alt=\"Open In Colab\"/></a>"
      ]
    },
    {
      "metadata": {
        "id": "DzsERrRQkT3s",
        "colab_type": "code",
        "colab": {}
      },
      "cell_type": "code",
      "source": [
        "f = lambda x: x**3 - 9*x + 5 #Funcao\n",
        "\n",
        "def bisseccao (f, a, b, iteracao, precisao):\n",
        "  \n",
        "  if f(a) * f(b) >= 0: #Verifica se o valor de A e B mulplicados nao e maior ou igual a zero, se for nao existem raizes\n",
        "    print(\"Nao existem raizes nesse intervalo \\n\")\n",
        "    return None\n",
        "  \n",
        "  print(\"n    a^n      b^n      x^n      f(x^n)   f^an   f(a^n) * f(x^n)\")\n",
        "  \n",
        "  j = 1\n",
        "  while j < iteracao:\n",
        "  \n",
        "    x = (a + b)/2 #Media entra os dois pontos\n",
        "\n",
        "    print(\"%.0f    %.4f   %.4f   %.4f   %.4f  %.4f   %.4f\" %(j ,a, b, x, f(x), f(a), f(a) * f(x)))\n",
        "\n",
        "    if f(a) * f(x) > 0: #Verifica se o valor da funcao com o valor do A e maior que funcao com o valor de X, se for ele substitui o valor do A com o X\n",
        "      a = x\n",
        "    \n",
        "    elif f(a) * f(x) < 0: #Verifica se o valor da funcao com o valor do A e menor que funcao com o valor de X, se for ele substitui o valor do B com o X\n",
        "      b = x\n",
        "       \n",
        "    if f(x) < 0: #Condicao de parada em relacao a precisao passada como parametro\n",
        "      if f(x) > -1*(precisao):\n",
        "        j = iteracao + 1\n",
        "        \n",
        "    elif f(x) > 0:\n",
        "      if f(x) < precisao:\n",
        "        j = iteracao + 1\n",
        "        \n",
        "    j += 1\n",
        "\n",
        "def falsaposicao (f, a, b, iteracao, precisao):\n",
        "  \n",
        "  if f(a) * f(b) >= 0: #Verifica se o valor de A e B mulplicados nao e maior ou igual a zero, se for nao existem raizes\n",
        "    print(\"Nao existem raizes nesse intervalo \\n\")\n",
        "    return None\n",
        "  \n",
        "  print(\"n    a^n      b^n      x^n      f(x^n)   f^an   f(a^n) * f(x^n)\")\n",
        "  \n",
        "  j = 1\n",
        "  \n",
        "  while j < iteracao:\n",
        "  \n",
        "    x = (a*f(b)-b*f(a))/(f(b)-f(a))\n",
        "\n",
        "    print(\"%.0f    %.4f   %.4f   %.4f   %.4f  %.4f   %.4f\" %(j ,a, b, x, f(x), f(a), f(a) * f(x)))\n",
        "\n",
        "    if f(a) * f(x) > 0: #Verifica se o valor da funcao com o valor do A e maior que funcao com o valor de X, se for ele substitui o valor do A com o X\n",
        "      a = x\n",
        "    \n",
        "    elif f(a) * f(x) < 0: #Verifica se o valor da funcao com o valor do A e menor que funcao com o valor de X, se for ele substitui o valor do B com o X\n",
        "      b = x\n",
        "    \n",
        "    if f(x) < 0: \n",
        "      if f(x) > -1*(precisao):\n",
        "        j = iteracao + 1\n",
        "        \n",
        "    elif f(x) > 0:\n",
        "      if f(x) < precisao:\n",
        "        j = iteracao + 1\n",
        "        \n",
        "    j += 1"
      ],
      "execution_count": 0,
      "outputs": []
    },
    {
      "metadata": {
        "id": "Bf6aXMJUm9Gx",
        "colab_type": "code",
        "outputId": "b97c0c1d-376c-4211-9d6e-894918b56e57",
        "colab": {
          "base_uri": "https://localhost:8080/",
          "height": 119
        }
      },
      "cell_type": "code",
      "source": [
        "bisseccao(f, 0.5, 1, 10, 0.01)"
      ],
      "execution_count": 0,
      "outputs": [
        {
          "output_type": "stream",
          "text": [
            "n    a^n      b^n      x^n      f(x^n)   f^an   f(a^n) * f(x^n)\n",
            "1    0.5000   1.0000   0.7500   -1.3281  0.6250   -0.8301\n",
            "2    0.5000   0.7500   0.6250   -0.3809  0.6250   -0.2380\n",
            "3    0.5000   0.6250   0.5625   0.1155  0.6250   0.0722\n",
            "4    0.5625   0.6250   0.5938   -0.1344  0.1155   -0.0155\n",
            "5    0.5625   0.5938   0.5781   -0.0099  0.1155   -0.0011\n"
          ],
          "name": "stdout"
        }
      ]
    },
    {
      "metadata": {
        "id": "ZITUmXsos-QY",
        "colab_type": "code",
        "outputId": "445203e3-6e0a-4130-9c19-7a0ca068babe",
        "colab": {
          "base_uri": "https://localhost:8080/",
          "height": 85
        }
      },
      "cell_type": "code",
      "source": [
        "falsaposicao(f, 0, 1, 10, 0.01)"
      ],
      "execution_count": 0,
      "outputs": [
        {
          "output_type": "stream",
          "text": [
            "n    a^n      b^n      x^n      f(x^n)   f^an   f(a^n) * f(x^n)\n",
            "1    0.0000   1.0000   0.6250   -0.3809  5.0000   -1.9043\n",
            "2    0.0000   0.6250   0.5808   -0.0310  5.0000   -0.1549\n",
            "3    0.0000   0.5808   0.5772   -0.0024  5.0000   -0.0120\n"
          ],
          "name": "stdout"
        }
      ]
    }
  ]
}